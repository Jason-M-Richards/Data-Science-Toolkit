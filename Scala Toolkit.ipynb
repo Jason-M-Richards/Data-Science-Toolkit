{
 "cells": [
  {
   "cell_type": "markdown",
   "metadata": {},
   "source": [
    "### What is Scala\n",
    "- a general purpose programming language providing support for functional programming and a strong static type system\n",
    "- designed to be concise\n",
    "- aimed to address criticisms of Java\n",
    "- newer, improved Java\n",
    "- Scala source code runs on a Java virtual machine allowing to build onto current Java code\n",
    "- SCalable LAnguage\n",
    "- lets you add new types, collections and control constructs that feel like they are built-in to the language\n",
    "- standard library has a set of convenient predefined types, collections and control construct\n",
    "- combines oop and functional programming in on\n",
    "- high-level language\n"
   ]
  },
  {
   "cell_type": "markdown",
   "metadata": {},
   "source": [
    "### Install Scala\n",
    "go to: https://www.scala-lang.org/download/"
   ]
  },
  {
   "cell_type": "markdown",
   "metadata": {},
   "source": [
    "### Use options\n",
    "- command line (terminal)\n",
    "- jupyter notebook - need spylon-kernel or almond\n",
    "    - pip (or conda) install spylon-kernel\n",
    "- IDE - "
   ]
  },
  {
   "cell_type": "markdown",
   "metadata": {},
   "source": [
    "### Scala Code and Interpreter\n",
    "- every value is an object\n",
    "- every operation is a method call\n",
    "- functions are first class values\n",
    "- functions should not have side effects\n",
    "- no semicolons needed at the end of a command\n",
    "- 100 characters per line\n",
    "#### simple calculations\n",
    "    // Calculate the difference between 8 and 5\n",
    "    val difference = 8-5\n",
    "\n",
    "    // Print the difference\n",
    "    println(difference)\n",
    "    \n",
    "#### values\n",
    "- val (value) - immutable, cannot be reassigned\n",
    "        \n",
    "        val [val_name]: [data_type] = 4\n",
    "\n",
    "#### variables\n",
    "- var (variable) - mutable, can be reassigned\n",
    "\n",
    "        var [var_name]: [data_type] = 4\n",
    "\n",
    "#### data types (work for vals and vars):\n",
    "- Double (default float value)\n",
    "- Float\n",
    "- Long\n",
    "- Int (integer)\n",
    "- Short\n",
    "- Byte\n",
    "- Char (characters)\n",
    "- Boolean (true/false)\n",
    "- Unit\n",
    "- String (sequence of Chars)\n",
    "- Any (supertype for collections)\n",
    "**Immutability is preferred in Scala language**\n",
    "#### type inference\n",
    "- allowing scala to interpret the data type for you\n",
    "- works for vars, collections, functions and more\n",
    "\n",
    "        //remove : and data_type and scala will infer what dataype the value is\n",
    "        val [val_name] = 4\n",
    "#### comment\n",
    "- // is used as comment (will disregard any characters within the same line)"
   ]
  },
  {
   "cell_type": "markdown",
   "metadata": {},
   "source": [
    "### Scripts, Applications, Workflows\n",
    "#### scripts\n",
    "- sequence of instructions in a file, executed sequentially\n",
    "- useful for smaller tasks\n",
    "- compiled and executed at same time\n",
    "#### applications\n",
    "- compiled explicitly then run explicitly\n",
    "- consists of many source files that can be compiled individually\n",
    "- useful for larger programs\n",
    "- no lagtime since apps are precompiled\n",
    "#### sbt\n",
    "- simple build tool\n",
    "- compiles, runs and tests scala applications"
   ]
  },
  {
   "cell_type": "markdown",
   "metadata": {},
   "source": [
    "### Functions\n",
    "- invoked or called with a list of arguments to produce a result\n",
    "- parts of a function:\n",
    "    - parameter list\n",
    "    - body\n",
    "    - result type\n",
    "    \n",
    "            // function to determine if hand busts\n",
    "            def bust(hand: Int) = {hand > 21}\n",
    "\n",
    "- parameter list is preceded by the = \n",
    "- body follows the = in curly braces\n",
    "- result type is the output of the called \n",
    "#### kinds of functions\n",
    "##### method\n",
    "- functions that are members of a class, trait or singleton object\n",
    "##### local function\n",
    "- functions defined inside other functions\n",
    "##### procedure\n",
    "- functions with a result type - Unit\n",
    "##### function literal\n",
    "- anonymous function in source code"
   ]
  },
  {
   "cell_type": "markdown",
   "metadata": {},
   "source": [
    "### Collections\n",
    "- zero indexed\n",
    "never change\n",
    "#### arrays\n",
    "- Array - mutable, can be updated or extended in place and share the same data type\n",
    "- recommend that Arrays be set as immutable vals\n",
    "        \n",
    "        val players = Array(\"Alex\", \"Chen\", \"Marta\")\n",
    "##### parameterize an array\n",
    "- configure data type and values\n",
    "\n",
    "        // set data type and array length\n",
    "        val players = new Array[String](3)\n",
    "        // pass in values\n",
    "        players(0) = \"Alex\"\n",
    "        players(1) = \"Chen\"\n",
    "        players(2) = \"AMarta\"\n",
    "        // update player\n",
    "        players(0) = \"Sindu\"\n",
    "#### lists      \n",
    "- most commonly used collection\n",
    "- List - immutable, never change and share smae data type\n",
    "- Lists use many different methods\n",
    "\n",
    "        // create list of players\n",
    "        val players = List(\"Alex\", \"Chen\", \"Marta\")\n",
    "        // add prepended player with :: (must assign new value (newPlayers) since it is immutable\n",
    "        val newPlayers = \"Sindu\" :: players\n",
    "        // or use var to allow prepending without assigning new value\n",
    "        players = \"Sindu\" :: players\n",
    "- :: - prepends a new element to the beginning of an existing list\n",
    "- Nil - specifies an empty list\n",
    "\n",
    "        // create list using Nil\n",
    "        val prizes = 10::15::20::25::30::Nil\n",
    "- ::: - concatenates lists"
   ]
  },
  {
   "cell_type": "markdown",
   "metadata": {},
   "source": [
    "### Static Type System\n",
    "- Type - restricts the possible values to which a variable can refer, or an expression can produce, at run time\n",
    "- Compile time - when source code is translated into machine code, i.e: code that a computer can read\n",
    "- Run time - when the program is executing commands (after compilation, if compiled)\n",
    "- language is static if the type of variable is known at compile time, i.e: type is checked before run time\n",
    "- faster run time\n",
    "- properties of program are verified\n",
    "- safe refactorings\n",
    "- documentation in the form of type annotation\n"
   ]
  },
  {
   "cell_type": "markdown",
   "metadata": {},
   "source": [
    "### Control Structures\n",
    "- block of programming that analyses variables and chooses a direction in which to go based on the given parameters\n",
    "#### if/else\n",
    "\n",
    "        // if hand busts, print to output\n",
    "        if (hand > 21) {println(\"This hand busts!\")}\n",
    "        // no curly braces for the else statement\n",
    "        else println(\"You didn't bust!)\n",
    "#### while\n",
    "\n",
    "    //define counter variable\n",
    "    var i = 0\n",
    "    //define the number of times to repeat code\n",
    "    val numRepetitions = 3\n",
    "    // while loop\n",
    "    while (i < numRepetitions) {println(\"Hip hip hooray!\")\n",
    "    //add to count\n",
    "    i = i+1}\n",
    "#### foreach\n",
    "- method that takes a function as an argument\n",
    "- replaces the while loop\n",
    "\n",
    "        // initialize array\n",
    "        var hands = Array(17,24,21)\n",
    "        // use foreach instead of while loop with bust function\n",
    "        hands.foreach(bust)"
   ]
  },
  {
   "cell_type": "markdown",
   "metadata": {},
   "source": [
    "### Operators\n",
    "- > greater than\n",
    "- < less than\n",
    "- >= greater than or equal to\n",
    "- <= less than or equal to\n",
    "- == equal to\n",
    "- != not equal to\n",
    "- && and\n",
    "- || or\n",
    "- ! not"
   ]
  },
  {
   "cell_type": "markdown",
   "metadata": {},
   "source": []
  }
 ],
 "metadata": {
  "kernelspec": {
   "display_name": "learn-env",
   "language": "python",
   "name": "learn-env"
  },
  "language_info": {
   "codemirror_mode": {
    "name": "ipython",
    "version": 3
   },
   "file_extension": ".py",
   "mimetype": "text/x-python",
   "name": "python",
   "nbconvert_exporter": "python",
   "pygments_lexer": "ipython3",
   "version": "3.6.6"
  },
  "toc": {
   "base_numbering": 1,
   "nav_menu": {},
   "number_sections": true,
   "sideBar": true,
   "skip_h1_title": false,
   "title_cell": "Table of Contents",
   "title_sidebar": "Contents",
   "toc_cell": false,
   "toc_position": {},
   "toc_section_display": true,
   "toc_window_display": true
  }
 },
 "nbformat": 4,
 "nbformat_minor": 2
}
