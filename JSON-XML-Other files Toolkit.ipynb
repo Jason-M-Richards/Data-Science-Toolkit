{
 "cells": [
  {
   "cell_type": "markdown",
   "metadata": {},
   "source": [
    "## JSON\n",
    "\n",
    "https://docs.python.org/3.6/library/json.html\n",
    "\n",
    "JSON stand for JavaScript Object Notation. It came after XML and was meant to streamline many data transportation issues at the time. It is now the common standard amongst data transfers on the web and has numerous parsing packages for numerous languages (including Python)!\n",
    "\n",
    "    import json\n",
    "    f = open('nyc_2001_campaign_finance.json')\n",
    "    data = json.load(f)\n",
    "    #root data type\n",
    "    type(data)\n",
    "    #Navigate to the 'data' key and find data type\n",
    "    type(data['data'])\n",
    "    #Preview the first entry\n",
    "    data['data'][0]\n",
    "    #Preview the Entry under meta -> view -> columns\n",
    "    data['meta']['view']['columns']\n",
    "    #Create a DataFrame from your json data\n",
    "    df = pd.DataFrame(data['data'])\n",
    "    cols = [i['name'] for i in data['meta']['view']['columns']]\n",
    "    df.columns = cols\n",
    "    df.head()\n",
    "    \n",
    "#### Reading a JSON schema\n",
    "\n",
    "https://developer.nytimes.com/article_search_v2.json#/Documentation/GET/articlesearch.json\n",
    "\n",
    "##### Loading Specific Data\n",
    "    docs = data['response']['docs']\n",
    "    print(type(docs), len(docs))\n",
    "    for doc in docs:\n",
    "        print(doc['headline']['main'])\n",
    "        print('\\n')\n",
    "\n",
    "##### Breaking out nested data in a loaded json dataframe\n",
    "    keys = df.headline.iloc[0].keys() #Get dictionary keys\n",
    "    #Keep track of columns we make for subsequent preview\n",
    "    new_cols = []\n",
    "    #Create a new feature for each of these keys\n",
    "    for key in keys:\n",
    "        new_col = 'headline_{}'.format(key) #Create new column name\n",
    "        df[new_col] = df.headline.map(lambda x: x[key]) #Create a new column\n",
    "        new_cols.append(new_col)\n",
    "    df[new_cols].head()\n",
    "    \n",
    "##### Outputing to JSON\n",
    "    with open('output.json', 'w') as f:\n",
    "        json.dump(data, f)"
   ]
  },
  {
   "cell_type": "markdown",
   "metadata": {},
   "source": [
    "## XML\n",
    "\n",
    "##### element tree for parsing xml files\n",
    "https://docs.python.org/3.6/library/xml.etree.elementtree.html#module-xml.etree.ElementTree\n",
    "\n",
    "XML stands for 'Extensible Markup Language'. You may note the acronym's similarity to HTML; HyperText Markup Language. While HTML tells us how to display a page, XML is used to store the data and content of the page itself. Like HTML, xml uses tags to seperate and organize data in a hierarchical manner.\n",
    "\n",
    "    import xml.etree.ElementTree as ET\n",
    "    #Create an XML tree and retrieve the root tag\n",
    "    tree = ET.parse('nyc_2001_campaign_finance.xml')\n",
    "    root = tree.getroot()\n",
    "    #direct descendents of the root tag\n",
    "    count = 0 \n",
    "    for child in root:\n",
    "        count += 1\n",
    "    print(count)\n",
    "    #different types of tags are there within the entire XML file\n",
    "    tags = []\n",
    "    for element in root.iter():\n",
    "        tags.append(element.tag)\n",
    "    print(len(set(tags)))\n",
    "    #Create a DataFrame listing the number of each type of tag\n",
    "    import pandas as pd\n",
    "    tags = {}\n",
    "    for element in root.iter():\n",
    "        tags[element.tag] = tags.get(element.tag, 0) + 1\n",
    "    df = pd.DataFrame.from_dict(tags, orient='index')\n",
    "    df.columns = ['count']\n",
    "    df = df.sort_values(by='count', ascending=False)\n",
    "    df.head()"
   ]
  },
  {
   "cell_type": "markdown",
   "metadata": {},
   "source": []
  },
  {
   "cell_type": "markdown",
   "metadata": {},
   "source": []
  },
  {
   "cell_type": "markdown",
   "metadata": {},
   "source": []
  },
  {
   "cell_type": "markdown",
   "metadata": {},
   "source": []
  },
  {
   "cell_type": "markdown",
   "metadata": {},
   "source": []
  }
 ],
 "metadata": {
  "kernelspec": {
   "display_name": "Python 3",
   "language": "python",
   "name": "python3"
  },
  "language_info": {
   "codemirror_mode": {
    "name": "ipython",
    "version": 3
   },
   "file_extension": ".py",
   "mimetype": "text/x-python",
   "name": "python",
   "nbconvert_exporter": "python",
   "pygments_lexer": "ipython3",
   "version": "3.6.6"
  }
 },
 "nbformat": 4,
 "nbformat_minor": 2
}
