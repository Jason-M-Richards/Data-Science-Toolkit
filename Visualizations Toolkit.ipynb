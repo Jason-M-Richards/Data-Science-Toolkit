{
 "cells": [
  {
   "cell_type": "markdown",
   "metadata": {},
   "source": [
    "## Stem and Leaf Plot (Matplotlib)\n",
    "\n",
    "    import matplotlib.pyplot as plt\n",
    "    stems = []\n",
    "    leafs = []\n",
    "\n",
    "    for mark in marks:\n",
    "        stem = mark //10\n",
    "        leaf = mark %10\n",
    "        stems.append(stem)\n",
    "        leafs.append(leaf)\n",
    "        \n",
    "    # Create a stem and leaf plot including the above styling\n",
    "    plt.figure(figsize=(12,8))\n",
    "    #markerline, stemlines, baseline = \n",
    "\n",
    "    plt.stem(stems, leafs, '-.', 'o' )\n",
    "    plt.title('Stem and Leaf Plot for Student Marks', fontsize = 30 )\n",
    "    plt.ylabel('Leafs', fontsize = 20)\n",
    "    plt.xlabel('Stems', fontsize = 20)\n",
    "\n",
    "    plt.show()"
   ]
  },
  {
   "cell_type": "markdown",
   "metadata": {},
   "source": [
    "## Folium Interactive Maps\n",
    "\n",
    "https://python-visualization.github.io/folium/\n",
    "    \n",
    "    import folium\n",
    "\n",
    "    lat = 51.51\n",
    "    long = -0.14\n",
    "\n",
    "    #Create a map of the area\n",
    "    base_map = folium.Map([lat, long], zoom_start=13)\n",
    "    base_map\n",
    "    \n",
    "    import numpy as np\n",
    "\n",
    "    #Generate some random locations to add to our map\n",
    "    x = [lat + np.random.uniform(-.1,.1) for i in range(20)]\n",
    "    y = [long + np.random.uniform(-.1,.1) for i in range(20)]\n",
    "    points = list(zip(x, y))\n",
    "    for p in points:\n",
    "        lat = p[0]\n",
    "        long = p[1]\n",
    "        marker = folium.Marker(location=[lat, long])\n",
    "        marker.add_to(base_map)\n",
    "    base_map\n",
    "    \n",
    "    #adding popup boxes to location points\n",
    "    for p in points:\n",
    "        lat = p[0]\n",
    "        long = p[1]\n",
    "        popup_text = \"Lattitude: {}, Longitude: {}\".format(lat,long)\n",
    "        popup = folium.Popup(popup_text, parse_html=True)\n",
    "        marker = folium.Marker(location=[lat, long], popup=popup)\n",
    "        marker.add_to(base_map)\n",
    "    base_map"
   ]
  },
  {
   "cell_type": "markdown",
   "metadata": {},
   "source": []
  },
  {
   "cell_type": "markdown",
   "metadata": {},
   "source": []
  },
  {
   "cell_type": "markdown",
   "metadata": {},
   "source": []
  },
  {
   "cell_type": "markdown",
   "metadata": {},
   "source": []
  },
  {
   "cell_type": "markdown",
   "metadata": {},
   "source": []
  }
 ],
 "metadata": {
  "kernelspec": {
   "display_name": "Python 3",
   "language": "python",
   "name": "python3"
  },
  "language_info": {
   "codemirror_mode": {
    "name": "ipython",
    "version": 3
   },
   "file_extension": ".py",
   "mimetype": "text/x-python",
   "name": "python",
   "nbconvert_exporter": "python",
   "pygments_lexer": "ipython3",
   "version": "3.7.3"
  }
 },
 "nbformat": 4,
 "nbformat_minor": 2
}
