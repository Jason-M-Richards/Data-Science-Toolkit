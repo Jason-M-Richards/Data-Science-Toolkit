{
 "cells": [
  {
   "cell_type": "markdown",
   "metadata": {},
   "source": [
    "## AutoML"
   ]
  },
  {
   "cell_type": "code",
   "execution_count": null,
   "metadata": {},
   "outputs": [],
   "source": [
    "#configure the automl experiment\n",
    "from azureml.train.automl import AutoMLConfig\n",
    "\n",
    "automl_run_config = RunConfiguration(framework='python')\n",
    "automl_config = AutoMLConfig(name='Automated ML Experiment',\n",
    "                             task='classification',\n",
    "                             primary_metric = 'AUC_weighted',\n",
    "                             compute_target=aml_compute,\n",
    "                             training_data = train_dataset,\n",
    "                             validation_data = test_dataset,\n",
    "                             label_column_name='Label',\n",
    "                             featurization='auto',\n",
    "                             iterations=12,\n",
    "                             max_concurrent_iterations=4)"
   ]
  },
  {
   "cell_type": "markdown",
   "metadata": {},
   "source": [
    "### Specifying Data for Training\n",
    "\n",
    "Automated machine learning is designed to enable you to simply bring your data, and have Azure Machine Learning figure out how best to train a model from it.\n",
    "\n",
    "When using the Automated Machine Learning user interface in Azure Machine Learning studio, you can create or select an Azure Machine Learning dataset to be used as the input for your automated machine learning experiment.\n",
    "\n",
    "When using the SDK to run an automated machine learning experiment, you can submit the data in the following ways:\n",
    "\n",
    "Specify a dataset or dataframe of training data that includes features and the label to be predicted.\n",
    "Optionally, specify a second validation data dataset or dataframe that will be used to validate the trained model. if this is not provided, Azure Machine Learning will apply cross-validation using the training data.\n",
    "Alternatively:\n",
    "\n",
    "Specify a dataset, dataframe, or numpy array of X values containing the training features, with a corresponding y array of label values.\n",
    "Optionally, specify X_valid and y_valid datasets, dataframes, or numpy arrays of X_valid values to be used for validation."
   ]
  },
  {
   "cell_type": "code",
   "execution_count": null,
   "metadata": {},
   "outputs": [],
   "source": [
    "#specify primary metric\n",
    "from azureml.train.automl.utilities import get_primary_metrics\n",
    "\n",
    "get_primary_metrics('classification')"
   ]
  },
  {
   "cell_type": "code",
   "execution_count": null,
   "metadata": {},
   "outputs": [],
   "source": [
    "#submit experiment\n",
    "from azureml.core.experiment import Experiment\n",
    "\n",
    "automl_experiment = Experiment(ws, 'automl_experiment')\n",
    "automl_run = automl_experiment.submit(automl_config)"
   ]
  },
  {
   "cell_type": "code",
   "execution_count": null,
   "metadata": {},
   "outputs": [],
   "source": [
    "#retrieving best model and run\n",
    "best_run, fitted_model = automl_run.get_output()\n",
    "best_run_metrics = best_run.get_metrics()\n",
    "for metric_name in best_run_metrics:\n",
    "    metric = best_run_metrics[metric_name]\n",
    "    print(metric_name, metric)"
   ]
  },
  {
   "cell_type": "code",
   "execution_count": null,
   "metadata": {},
   "outputs": [],
   "source": [
    "#explore the processing steps\n",
    "for step_ in fitted_model.named_steps:\n",
    "    print(step)"
   ]
  },
  {
   "cell_type": "code",
   "execution_count": null,
   "metadata": {},
   "outputs": [],
   "source": []
  },
  {
   "cell_type": "code",
   "execution_count": null,
   "metadata": {},
   "outputs": [],
   "source": []
  }
 ],
 "metadata": {
  "kernelspec": {
   "display_name": "learn-env",
   "language": "python",
   "name": "learn-env"
  },
  "language_info": {
   "codemirror_mode": {
    "name": "ipython",
    "version": 3
   },
   "file_extension": ".py",
   "mimetype": "text/x-python",
   "name": "python",
   "nbconvert_exporter": "python",
   "pygments_lexer": "ipython3",
   "version": "3.6.10"
  },
  "toc": {
   "base_numbering": 1,
   "nav_menu": {},
   "number_sections": true,
   "sideBar": true,
   "skip_h1_title": false,
   "title_cell": "Table of Contents",
   "title_sidebar": "Contents",
   "toc_cell": false,
   "toc_position": {},
   "toc_section_display": true,
   "toc_window_display": true
  }
 },
 "nbformat": 4,
 "nbformat_minor": 4
}
