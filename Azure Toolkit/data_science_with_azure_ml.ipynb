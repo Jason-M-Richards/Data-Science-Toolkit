{
  "cells": [
    {
      "metadata": {},
      "cell_type": "markdown",
      "source": "# Data Science with Azure ML Services"
    },
    {
      "metadata": {},
      "cell_type": "markdown",
      "source": "## logging into ML service resource and creating a Workspace"
    },
    {
      "metadata": {
        "trusted": true
      },
      "cell_type": "code",
      "source": "from azureml.core import Workspace, Experiment, Run\n\nws = Workspace.get(name='junior_ds',\n                      subscription_id='055108ec-2785-464c-9375-6599cde5996d', \n                      resource_group='Jason' \n                     )",
      "execution_count": null,
      "outputs": []
    },
    {
      "metadata": {},
      "cell_type": "markdown",
      "source": "Prompt will appear - To sign in, use a web browser to open the page https://microsoft.com/devicelogin and enter the code FXKD2FUZQ to authenticate. - copy the code, go to link and paste code where prompted. When connected - will prompt - Interactive authentication successfully completed."
    },
    {
      "metadata": {},
      "cell_type": "markdown",
      "source": "to create a workspace from scratch\n**only run if workspace not created**"
    },
    {
      "metadata": {
        "trusted": true
      },
      "cell_type": "code",
      "source": "import azureml.core\nprint(azureml.core.VERSION)\n\nfrom azureml.core import Workspace\n\nws = Workspace.create(name='myworkspace',\n                      subscription_id='<azure-subscription-id>', \n                      resource_group='myresourcegroup',\n                      create_resource_group=True,\n                      location='eastus2' # Or other supported Azure region   \n                     )",
      "execution_count": null,
      "outputs": []
    },
    {
      "metadata": {
        "trusted": true
      },
      "cell_type": "code",
      "source": "# get workspace details\nws.get_details()",
      "execution_count": null,
      "outputs": []
    },
    {
      "metadata": {
        "trusted": true
      },
      "cell_type": "code",
      "source": "# Details of your workspace need to be saved to a configuration Json file to the current directory.\n# Create the configuration file.\nws.write_config()",
      "execution_count": null,
      "outputs": []
    },
    {
      "metadata": {
        "trusted": true
      },
      "cell_type": "code",
      "source": "# logging information to your workspace\nfrom azureml.core import Experiment\n\n# create an experiment\nexp = Experiment(workspace=ws, name='trial_exp')\n\n# start a run\nrun = exp.start_logging()\n\n# log a number\nrun.log('trial', 30)\n\n# log a list (Fibonacci numbers)\nrun.log_list('my list', [1, 1, 2, 3, 5, 8, 13, 21, 34, 55]) \n\n# finish the run\nrun.complete()\n\nprint('Execution complete')\n\n#print results\nprint(run.get_portal_url())",
      "execution_count": null,
      "outputs": []
    },
    {
      "metadata": {
        "trusted": true
      },
      "cell_type": "code",
      "source": "# delete resources\nws.delete(delete_dependent_resources=True)",
      "execution_count": null,
      "outputs": []
    },
    {
      "metadata": {},
      "cell_type": "markdown",
      "source": "## Regression Model Example"
    },
    {
      "metadata": {
        "trusted": true
      },
      "cell_type": "code",
      "source": "# import packages\nimport os\nimport urllib.request\n\n#create a fold for the dataset\nos.makedirs('./data', exist_ok = True)\n# load dataset to the directory, as you can see, you need to load train sets and test sets seperately \nurllib.request.urlretrieve('http://yann.lecun.com/exdb/mnist/train-images-idx3-ubyte.gz', filename='./data/train-images.gz')\nurllib.request.urlretrieve('http://yann.lecun.com/exdb/mnist/train-labels-idx1-ubyte.gz', filename='./data/train-labels.gz')\nurllib.request.urlretrieve('http://yann.lecun.com/exdb/mnist/t10k-images-idx3-ubyte.gz', filename='./data/test-images.gz')\nurllib.request.urlretrieve('http://yann.lecun.com/exdb/mnist/t10k-labels-idx1-ubyte.gz', filename='./data/test-labels.gz')\n\nprint('Code executed')",
      "execution_count": null,
      "outputs": []
    },
    {
      "metadata": {
        "trusted": true
      },
      "cell_type": "code",
      "source": "# functions needed by downstream code...\n\n# Copyright (c) Microsoft Corporation. All rights reserved.\n# Licensed under the MIT License.\n\nimport gzip\nimport numpy as np\nimport struct\n\n# load compressed MNIST gz files and return numpy arrays\ndef load_data(filename, label=False):\n    with gzip.open(filename) as gz:\n        struct.unpack('I', gz.read(4))\n        n_items = struct.unpack('>I', gz.read(4))\n        if not label:\n            n_rows = struct.unpack('>I', gz.read(4))[0]\n            n_cols = struct.unpack('>I', gz.read(4))[0]\n            res = np.frombuffer(gz.read(n_items[0] * n_rows * n_cols), dtype=np.uint8)\n            res = res.reshape(n_items[0], n_rows * n_cols)\n        else:\n            res = np.frombuffer(gz.read(n_items[0]), dtype=np.uint8)\n            res = res.reshape(n_items[0], 1)\n    return res\n\n\n# one-hot encode a 1-D array\ndef one_hot_encode(array, num_of_classes):\n    return np.eye(num_of_classes)[array.reshape(-1)]\n\n# load the data...\n\n# To help the model to converge faster , you shrink the intensity values (X) from 0-255 to 0-1\nX_train = load_data('./data/train-images.gz', False) / 255.0\ny_train = load_data('./data/train-labels.gz', True).reshape(-1)\n\nX_test = load_data('./data/test-images.gz', False) / 255.0\ny_test = load_data('./data/test-labels.gz', True).reshape(-1)\n\nprint('Code executed')",
      "execution_count": null,
      "outputs": []
    },
    {
      "metadata": {
        "trusted": true
      },
      "cell_type": "code",
      "source": "%matplotlib inline\nimport matplotlib.pyplot as plt\n\n# now let's show some randomly chosen images from the traininng set.\ncount = 0\nsample_size = 30\nplt.figure(figsize = (16, 6))\nfor i in np.random.permutation(X_train.shape[0])[:sample_size]:\n    count = count + 1\n    plt.subplot(1, sample_size, count)\n    plt.axhline('')\n    plt.axvline('')\n    plt.text(x=10, y=-10, s=y_train[i], fontsize=18)\n    plt.imshow(X_train[i].reshape(28, 28), cmap=plt.cm.Greys)\nplt.show()",
      "execution_count": null,
      "outputs": []
    },
    {
      "metadata": {
        "trusted": true
      },
      "cell_type": "code",
      "source": "# running model from local machine\nfrom sklearn.linear_model import LogisticRegression\n\n#load model\nclf = LogisticRegression()\n#fit model\nclf.fit(X_train, y_train)\n\n#evaluate model using test set\ny_hat = clf.predict(X_test)\n#print the accuracy\nprint(np.average(y_hat == y_test))\n\nprint('Code executed')",
      "execution_count": null,
      "outputs": []
    },
    {
      "metadata": {},
      "cell_type": "markdown",
      "source": "You may notice that, depending on your local machine capacity, it takes a long time to fit models with parameters of different values, or to find k that returns best results. In this case, you should try to run the model on a remote cluster.\n\nRUN AND EXPERIMENT OVERVIEW\n\nBefore you begin, it is imperative to familiarize ourselves with two concepts: run and experiment.\n\nRun, within the context of the Azure Machine Learning service, refers to Python code for a specific task, for example, training a model or tuning hyperparameters (we'll define this in a moment). Run does the job of logging metrics and upload result to Azure platform, it's a more natural way to keep track of jobs in your Workspace.\n\nExperiment is a term referring to a composition of a series of runs. In the example, you have one run for the logistic regression model and another for the KNN model, and together they make up an experiment for you to compare results."
    },
    {
      "metadata": {
        "trusted": true
      },
      "cell_type": "code",
      "source": "# create an experiment\n# ensure that first you are connected to a workspace \n# Add this to top of code...\n%matplotlib inline\nimport numpy as np\nimport matplotlib\nimport matplotlib.pyplot as plt\n\nimport azureml\nfrom azureml.core import Workspace, Run\n\n# check core SDK version number\nprint(\"Azure ML SDK Version: \", azureml.core.VERSION)",
      "execution_count": null,
      "outputs": []
    },
    {
      "metadata": {
        "trusted": true
      },
      "cell_type": "code",
      "source": "#Create an experiment\nexperiment = Experiment(workspace = ws, name = \"my-first-experiment\")\n#Create a run\nrun = experiment.start_logging()\nrun.log(\"trial\",1)\nrun.complete()\nprint('Code executed')",
      "execution_count": null,
      "outputs": []
    },
    {
      "metadata": {
        "trusted": true
      },
      "cell_type": "code",
      "source": "#view logged results - go to link provided\nprint(run.get_portal_url())",
      "execution_count": null,
      "outputs": []
    },
    {
      "metadata": {},
      "cell_type": "markdown",
      "source": "## AML Compute as our compute resource"
    },
    {
      "metadata": {
        "trusted": true
      },
      "cell_type": "code",
      "source": "# import packages\nfrom azureml.core.compute import AmlCompute\nfrom azureml.core.compute import ComputeTarget\nimport os\n\n# Step 1: name the cluster, set minimal and maximal number of nodes \ncompute_name = os.environ.get(\"AML_COMPUTE_CLUSTER_NAME\", \"cpucluster\")\nmin_nodes = os.environ.get(\"AML_COMPUTE_CLUSTER_MIN_NODES\", 0)\nmax_nodes = os.environ.get(\"AML_COMPUTE_CLUSTER_MAX_NODES\", 3)\n\n# Step 2: choose environment variables \nvm_size = os.environ.get(\"AML_COMPUTE_CLUSTER_SKU\", \"STANDARD_D2_V2\")\n\n\nprovisioning_config = AmlCompute.provisioning_configuration(vm_size = vm_size,\n                                                                min_nodes = min_nodes, \n                                                                max_nodes = max_nodes)\n\n# create the cluster\ncompute_target = ComputeTarget.create(ws, compute_name, provisioning_config)\nprint('Code executed')",
      "execution_count": null,
      "outputs": []
    },
    {
      "metadata": {
        "trusted": true
      },
      "cell_type": "code",
      "source": "#upload data using get_default_datastore()\nds = ws.get_default_datastore()\n\nds.upload(src_dir='./data', target_path='mnist', overwrite=True, show_progress=True)\nprint('Code executed')",
      "execution_count": null,
      "outputs": []
    },
    {
      "metadata": {
        "trusted": true
      },
      "cell_type": "code",
      "source": "#create folder\nfolder_training_script= './trial_model_mnist'\nos.makedirs(folder_training_script, exist_ok=True)",
      "execution_count": null,
      "outputs": []
    },
    {
      "metadata": {
        "trusted": true
      },
      "cell_type": "code",
      "source": "%%writefile $folder_training_script/train.py\n\n# functions needed by downstream code...\n\n# Copyright (c) Microsoft Corporation. All rights reserved.\n# Licensed under the MIT License.\n\nimport gzip\nimport numpy as np\nimport struct\n\n# load compressed MNIST gz files and return numpy arrays\ndef load_data(filename, label=False):\n    with gzip.open(filename) as gz:\n        struct.unpack('I', gz.read(4))\n        n_items = struct.unpack('>I', gz.read(4))\n        if not label:\n            n_rows = struct.unpack('>I', gz.read(4))[0]\n            n_cols = struct.unpack('>I', gz.read(4))[0]\n            res = np.frombuffer(gz.read(n_items[0] * n_rows * n_cols), dtype=np.uint8)\n            res = res.reshape(n_items[0], n_rows * n_cols)\n        else:\n            res = np.frombuffer(gz.read(n_items[0]), dtype=np.uint8)\n            res = res.reshape(n_items[0], 1)\n    return res\n\n\n# one-hot encode a 1-D array\ndef one_hot_encode(array, num_of_classes):\n    return np.eye(num_of_classes)[array.reshape(-1)]\n#\n\n# end of functions needed by downstream code...\n\nimport argparse\nimport os\nimport numpy as np\n\nfrom sklearn.linear_model import LogisticRegression\nfrom sklearn.externals import joblib\n\nfrom azureml.core import Run\n# from utils import load_data\n\n# let user feed in 2 parameters, the location of the data files (from datastore), and the regularization rate of the logistic regression model\nparser = argparse.ArgumentParser()\nparser.add_argument('--data-folder', type=str, dest='data_folder', help='data folder mounting point')\nparser.add_argument('--regularization', type=float, dest='reg', default=0.01, help='regularization rate')\nargs = parser.parse_args()\n\ndata_folder = os.path.join(args.data_folder, 'mnist')\nprint('Data folder:', data_folder)\n\n# load train and test set into numpy arrays\n# note we scale the pixel intensity values to 0-1 (by dividing it with 255.0) so the model can converge faster.\nX_train = load_data(os.path.join(data_folder, 'train-images.gz'), False) / 255.0\nX_test = load_data(os.path.join(data_folder, 'test-images.gz'), False) / 255.0\ny_train = load_data(os.path.join(data_folder, 'train-labels.gz'), True).reshape(-1)\ny_test = load_data(os.path.join(data_folder, 'test-labels.gz'), True).reshape(-1)\nprint(X_train.shape, y_train.shape, X_test.shape, y_test.shape, sep = '\\n')\n\n# get hold of the current run\nrun = Run.get_context()\n\nprint('Train a logistic regression model with regularizaion rate of', args.reg)\nclf = LogisticRegression(C=1.0/args.reg, random_state=42)\nclf.fit(X_train, y_train)\n\nprint('Predict the test set')\ny_hat = clf.predict(X_test)\n\n# calculate accuracy on the prediction\nacc = np.average(y_hat == y_test)\nprint('Accuracy is', acc)\n\nrun.log('regularization rate', np.float(args.reg))\nrun.log('accuracy', np.float(acc))\n\nos.makedirs('outputs', exist_ok=True)\n# note file saved in the outputs folder is automatically uploaded into experiment record\njoblib.dump(value=clf, filename='outputs/sklearn_mnist_model.pkl')\n\nprint('Code executed')",
      "execution_count": null,
      "outputs": []
    },
    {
      "metadata": {},
      "cell_type": "markdown",
      "source": "Now, you must add a utils script as shown below for loading data and to create an estimator so that it's easier to scale our work in the future. An estimator object is used to submit the run. Create your estimator by running the following code to define these items:\n\n- The name of the estimator object, est.\n- The directory that contains your scripts. All the files in this directory are uploaded into the cluster nodes for execution.\n- The compute target. In this case, you use the Azure Machine Learning compute cluster you created.\n- The training script name, train.py.\n- Parameters required from the training script.\n- Python packages needed for training."
    },
    {
      "metadata": {
        "trusted": true
      },
      "cell_type": "code",
      "source": "from azureml.train.estimator import Estimator\n\nscript_params = {\n    '--data-folder': ds.as_mount(),\n    '--regularization': 0.8\n}\n\n#import scikit-learn package \nest = Estimator(source_directory=folder_training_script,\n                script_params=script_params,\n                compute_target=compute_target,\n                entry_script='train.py',\n                conda_packages=['scikit-learn'])",
      "execution_count": null,
      "outputs": []
    },
    {
      "metadata": {
        "trusted": true
      },
      "cell_type": "code",
      "source": "#run\nrun = experiment.submit(config=est)\nrun\n\nprint('Code executed')",
      "execution_count": null,
      "outputs": []
    },
    {
      "metadata": {
        "trusted": true
      },
      "cell_type": "code",
      "source": "# monitor the run\nfrom azureml.widgets import RunDetails\nRunDetails(run).show()",
      "execution_count": null,
      "outputs": []
    },
    {
      "metadata": {
        "trusted": true
      },
      "cell_type": "code",
      "source": "#get result\nprint(run.get_metrics())",
      "execution_count": null,
      "outputs": []
    },
    {
      "metadata": {},
      "cell_type": "markdown",
      "source": "## Model Deployment"
    },
    {
      "metadata": {
        "trusted": true
      },
      "cell_type": "code",
      "source": "#link for Azure Container Instances and Kubernetes\nhttps://docs.microsoft.com/azure/machine-learning/service/how-to-deploy-and-where#aci",
      "execution_count": null,
      "outputs": []
    },
    {
      "metadata": {
        "trusted": true
      },
      "cell_type": "code",
      "source": "#link for Azure IoT Edge\nhttps://docs.microsoft.com/azure/machine-learning/service/how-to-deploy-and-where#iotedge",
      "execution_count": null,
      "outputs": []
    },
    {
      "metadata": {
        "trusted": true
      },
      "cell_type": "code",
      "source": "#link for Field Programmable Gate Array\nhttps://docs.microsoft.com/azure/machine-learning/service/how-to-deploy-and-where#fpga",
      "execution_count": null,
      "outputs": []
    },
    {
      "metadata": {
        "trusted": true
      },
      "cell_type": "code",
      "source": "#create a model\nfrom sklearn.datasets import load_diabetes\nfrom sklearn.linear_model import Ridge\nfrom sklearn.metrics import mean_squared_error\nfrom sklearn.model_selection import train_test_split\nfrom sklearn.externals import joblib\n\nX, y = load_diabetes(return_X_y = True)\ncolumns = ['age', 'gender', 'bmi', 'bp', 's1', 's2', 's3', 's4', 's5', 's6']\nX_train, X_test, y_train, y_test = train_test_split(X, y, test_size=0.2, random_state=0)\ndata = {\n    \"train\":{\"X\": X_train, \"y\": y_train},        \n    \"test\":{\"X\": X_test, \"y\": y_test}\n}\n\nprint (\"Data contains\", len(data['train']['X']), \"training samples and\",len(data['test']['X']), \"test samples\")\n\n# Create, fit, and test the scikit-learn Ridge regression model\nregression_model = Ridge(alpha=0.03)\nregression_model.fit(data['train']['X'], data['train']['y'])\npreds = regression_model.predict(data['test']['X'])\n\n# Output the Mean Squared Error to the notebook and to the run\nprint('Mean Squared Error is', mean_squared_error(data['test']['y'], preds))",
      "execution_count": null,
      "outputs": []
    },
    {
      "metadata": {
        "trusted": true
      },
      "cell_type": "code",
      "source": "# save work as a pickle file\nfrom sklearn.externals import joblib\n\njoblib.dump(value=regression_model, filename='sklearn_regression_model.pkl')",
      "execution_count": null,
      "outputs": []
    },
    {
      "metadata": {
        "trusted": true
      },
      "cell_type": "code",
      "source": "#register the model\nfrom azureml.core.model import Model\nmodel = Model.register(model_path = \"sklearn_regression_model.pkl\",\n                       model_name = \"sklearn_regression_model.pkl\",\n                       tags = {'area': \"diabetes\", 'type': \"regression\"},\n                       description = \"Ridge regression model to predict diabetes\",\n                       workspace = ws)",
      "execution_count": null,
      "outputs": []
    },
    {
      "metadata": {},
      "cell_type": "markdown",
      "source": "After registering the models, you can reference the Azure portal so that you can see your registered models under Model tab"
    },
    {
      "metadata": {},
      "cell_type": "markdown",
      "source": "#### Create a Scoring Script\n\nContainer images allow users to deploy models reliably since the machine learning model always depends on some other dependencies such as PyTorch. Using containers to deploy machine learning models can avoid dependency issues.\n\nA container image has the following items packaged, which you need to prepare:\n\n- The model itself\n- The inference engine, such as PyTorch\n- The scoring file (score.py) or other application consuming the model\n- Any dependencies needed\n\nThe first step is to create the score.py file that consumes the model, like below. You only need to define two functions: init, which loads the model and run, which does the inference:"
    },
    {
      "metadata": {
        "trusted": true
      },
      "cell_type": "code",
      "source": "%%writefile score.py\nimport pickle\nimport json\nimport numpy\nfrom sklearn.externals import joblib\nfrom sklearn.linear_model import Ridge\nfrom azureml.core.model import Model\n\ndef init():\n    global model\n    model_path = Model.get_model_path('sklearn_regression_model.pkl')\n    # deserialize the model file back into a sklearn model\n    model = joblib.load(model_path)\n    \n# note you can pass in multiple rows for scoring\ndef run(raw_data):\n    try:\n        data = json.loads(raw_data)['data']\n        data = numpy.array(data)\n        result = model.predict(data)\n        # you can return any datatype if it is JSON-serializable\n        return result.tolist()\n        return 0\n    except Exception as e:\n        error = str(e)\n        return error",
      "execution_count": null,
      "outputs": []
    },
    {
      "metadata": {},
      "cell_type": "markdown",
      "source": "The second step is to make sure the dependencies are included in the image. Azure Machine Learning does that by creating a conda dependency file:"
    },
    {
      "metadata": {
        "trusted": true
      },
      "cell_type": "code",
      "source": "from azureml.core.conda_dependencies import CondaDependencies \nmyenv = CondaDependencies.create(conda_packages=['numpy','scikit-learn'])\nwith open(\"myenv.yml\",\"w\") as f:\n    f.write(myenv.serialize_to_string())",
      "execution_count": null,
      "outputs": []
    },
    {
      "metadata": {},
      "cell_type": "markdown",
      "source": "The third step is preparing the container image by running the code below. This may take a few minutes. You should see several output messages display as it creates the image."
    },
    {
      "metadata": {
        "trusted": true
      },
      "cell_type": "code",
      "source": "from azureml.core.image import Image, ContainerImage\n\nimage_config = ContainerImage.image_configuration(runtime= \"python\",\n                                 execution_script=\"score.py\",\n                                 conda_file=\"myenv.yml\",\n                                 tags = {'area': \"diabetes\", 'type': \"regression\"},\n                                 description = \"Image with ridge regression model\")\n\nimage = Image.create(name = \"myimage1\",\n                     # this is the model object \n                     models = [model],\n                     image_config = image_config, \n                     workspace = ws)\n\nimage.wait_for_creation(show_output = True)\n\nprint('Execution complete')",
      "execution_count": null,
      "outputs": []
    },
    {
      "metadata": {},
      "cell_type": "markdown",
      "source": "After the code is executed, you can view the images in the Azure Machine Learning Service portal"
    },
    {
      "metadata": {},
      "cell_type": "markdown",
      "source": "#### Deploy Model\n\nDefine the deployment configuration. For example, the following code defines a container that uses 1 CPU and 1 GB of memory:"
    },
    {
      "metadata": {
        "trusted": true
      },
      "cell_type": "code",
      "source": "from azureml.core.webservice import AciWebservice\n\naciconfig = AciWebservice.deploy_configuration(cpu_cores=1, \n                                               memory_gb=1, \n                                               tags={'sample name': 'AML 101'}, \n                                               description='This is a great example.')",
      "execution_count": null,
      "outputs": []
    },
    {
      "metadata": {},
      "cell_type": "markdown",
      "source": "To deploy the image created in the previous unit, you can use code similar to the code below. This may take a few minutes to finish."
    },
    {
      "metadata": {
        "trusted": true
      },
      "cell_type": "code",
      "source": "%%time\nfrom azureml.core.webservice import Webservice\n\n# Create the webservice \nservice = Webservice.deploy_from_model(name='my-aci-svc3',\n                                       deployment_config=aciconfig,\n                                       models=[model],\n                                       image_config=image_config,\n                                       workspace=ws)\n\n# Wait for the service deployment to complete while displaying log output.  This can take several minutes.\nservice.wait_for_deployment(show_output=True)\n\nprint('Execution complete')",
      "execution_count": null,
      "outputs": []
    },
    {
      "metadata": {},
      "cell_type": "markdown",
      "source": "#### Scoring Data w/ Deployed Model\n\nSince the model is deployed as a web service that exposes a REST API, it can be tested with many tools. Azure Machine Learning SDK has a built-in testing tool that can work with the deployed web service as shown below"
    },
    {
      "metadata": {
        "trusted": true
      },
      "cell_type": "code",
      "source": "import json\n\n# scrape the first row from the test set.\ntest_samples = json.dumps({\"data\": X_test[0:1, :].tolist()})\n\nprint(test_samples) # here is what we are sending to the service.\n\n#score on our service\nservice.run(input_data = test_samples)",
      "execution_count": null,
      "outputs": []
    },
    {
      "metadata": {},
      "cell_type": "markdown",
      "source": "## Pipelines\n\nYou can use the Azure Machine Learning SDK for Python to create ML pipelines, as well as to submit and track individual pipeline runs."
    },
    {
      "metadata": {
        "trusted": true
      },
      "cell_type": "code",
      "source": "",
      "execution_count": null,
      "outputs": []
    },
    {
      "metadata": {
        "trusted": true
      },
      "cell_type": "code",
      "source": "",
      "execution_count": null,
      "outputs": []
    },
    {
      "metadata": {},
      "cell_type": "markdown",
      "source": "## Auto ML\n\nAutoML provides an automated solution, let Azure Machine Learning Services run all the models concurrently, compare the results, and recommend the best model for the job"
    },
    {
      "metadata": {
        "trusted": true
      },
      "cell_type": "code",
      "source": "#Create an experiment\nexperiment = Experiment(workspace = ws, name = \"my-third-experiment\")",
      "execution_count": null,
      "outputs": []
    },
    {
      "metadata": {
        "trusted": true
      },
      "cell_type": "code",
      "source": "# insert automl parameters\nfrom azureml.train.automl import AutoMLConfig\nimport logging\n\nautoml_config = AutoMLConfig(task = 'regression',\n                             iteration_timeout_minutes = 6,\n                             iterations = 3,\n                             primary_metric = 'spearman_correlation',\n                             n_cross_validations = 5,\n                             debug_log = 'automl.log',\n                             verbosity = logging.INFO,\n                             X = X_train, \n                             y = y_train)\n\nprint('Execution Complete')",
      "execution_count": null,
      "outputs": []
    },
    {
      "metadata": {
        "trusted": true
      },
      "cell_type": "code",
      "source": "# run automl\nlocal_run = experiment.submit(automl_config, show_output = True)\n\nprint('Execution Complete')",
      "execution_count": null,
      "outputs": []
    },
    {
      "metadata": {
        "trusted": true
      },
      "cell_type": "code",
      "source": "#retrieve best model\nfrom azureml.widgets import RunDetails\nRunDetails(local_run).show()",
      "execution_count": null,
      "outputs": []
    },
    {
      "metadata": {
        "trusted": true
      },
      "cell_type": "code",
      "source": "#another way to retrieve best model w/o widget\nbest_run, fitted_model = local_run.get_output()\n\nprint(best_run)\nprint(fitted_model)",
      "execution_count": null,
      "outputs": []
    },
    {
      "metadata": {},
      "cell_type": "markdown",
      "source": "## Using HyperDrive to auto-tune parameters\n\nHyperDrive is a built-in service that automatically launches multiple experiments in parallel each with different parameter configurations."
    },
    {
      "metadata": {
        "trusted": true
      },
      "cell_type": "code",
      "source": "",
      "execution_count": null,
      "outputs": []
    },
    {
      "metadata": {
        "trusted": true
      },
      "cell_type": "code",
      "source": "",
      "execution_count": null,
      "outputs": []
    },
    {
      "metadata": {},
      "cell_type": "markdown",
      "source": "## Manage and Monitor Models\n\nIn the Azure Machine Learning service, you can track experiments and monitor metrics with a few lines of code.\n\n- how to add logs into your scripts so Azure Machine Learning can track the key metrics\n- how to submit the experiments with model monitoring enabled\n- how to monitor the progress of running jobs\n- how to view the model's results\n\nTo explore the Azure Machine Learning service further with in-depth code samples, follow the link: https://github.com/Azure/MachineLearningNotebooks\n\nFor full details and documentation follow the link: https://docs.microsoft.com/azure/machine-learning/service/how-to-enable-data-collection"
    },
    {
      "metadata": {
        "trusted": true
      },
      "cell_type": "code",
      "source": "#query models\nregression_models = Model.list(workspace=ws, tags=['area'])\nfor m in regression_models:\n    print(\"Name:\", m.name,\"\\tVersion:\", m.version, \"\\tDescription:\", m.description, m.tags)",
      "execution_count": null,
      "outputs": []
    },
    {
      "metadata": {},
      "cell_type": "markdown",
      "source": "The SDK allows data scientists to code within any Python environment including Jupyter Notebooks, PyCharm, and Visual Studio Code."
    },
    {
      "metadata": {
        "trusted": true
      },
      "cell_type": "code",
      "source": "!pip install azureml-monitoring",
      "execution_count": null,
      "outputs": []
    },
    {
      "metadata": {
        "trusted": true
      },
      "cell_type": "code",
      "source": "#enable data collection\n#The first step is enabling data collection. This can either be done using the SDK or the portal. In the SDK, \n#add the line below to your score.py script. The code also enables application insights.\n\naks_config = AciWebservice.deploy_configuration(collect_model_data=True, enable_app_insights=True)\n\n\n#sample of where to insert\n'''from azureml.core.webservice import AciWebservice\n\naciconfig = AciWebservice.deploy_configuration(cpu_cores=1, \n                                               memory_gb=1, \n                                               tags={'sample name': 'AML 101'}, \n                                               description='This is a great example.')'''",
      "execution_count": null,
      "outputs": []
    },
    {
      "metadata": {},
      "cell_type": "markdown",
      "source": "##### collecting model data\n\nThere are four steps to use the SDK to collect model data."
    },
    {
      "metadata": {
        "trusted": true,
        "scrolled": false
      },
      "cell_type": "code",
      "source": "#step 1: import package\nfrom azureml.monitoring import ModelDataCollector",
      "execution_count": null,
      "outputs": []
    },
    {
      "metadata": {
        "trusted": true
      },
      "cell_type": "code",
      "source": "#step 2: add the following code to the init() function\nglobal inputs_dc, prediction_d\ninputs_dc = ModelDataCollector(\"best_model\", identifier=\"inputs\", feature_names=[\"feat1\", \"feat2\", \"feat3\", \"feat4\", \"feat5\", \"Feat6\"])\nprediction_dc = ModelDataCollector(\"best_model\", identifier=\"predictions\", feature_names=[\"prediction1\", \"prediction2\"])\n\n#sample of code to input\n'''%%writefile score.py\nimport pickle\nimport json\nimport numpy\nfrom sklearn.externals import joblib\nfrom sklearn.linear_model import Ridge\nfrom azureml.core.model import Model\n\ndef init():\n    global model\n    model_path = Model.get_model_path('sklearn_regression_model.pkl')\n    # deserialize the model file back into a sklearn model\n    model = joblib.load(model_path)\n    #inserted code\n    global inputs_dc, prediction_d\ninputs_dc = ModelDataCollector(\"best_model\", identifier=\"inputs\", feature_names=[\"feat1\", \"feat2\", \"feat3\", \"feat4\", \"feat5\", \"Feat6\"])\nprediction_dc = ModelDataCollector(\"best_model\", identifier=\"predictions\", feature_names=[\"prediction1\", \"prediction2\"])\n    \n# note you can pass in multiple rows for scoring\ndef run(raw_data):\n    try:\n        data = json.loads(raw_data)['data']\n        data = numpy.array(data)\n        result = model.predict(data)\n        # you can return any datatype if it is JSON-serializable\n        return result.tolist()\n        return 0\n    except Exception as e:\n        error = str(e)\n        return error'''",
      "execution_count": null,
      "outputs": []
    },
    {
      "metadata": {},
      "cell_type": "markdown",
      "source": "- Identifier is later used for building the folder structure in your Blob, it can be used to divide “raw” versus \"processed\" data.\n- CorrelationId is an optional parameter. You do not need to set it up if your model doesn't require it. Having a correlationId in place helps you simplify mapping of other data. (Examples include: LoanNumber, CustomerId, etc.)\n- Feature Names need to be identified in the order of your features for them to have column names when the .csv is created."
    },
    {
      "metadata": {
        "trusted": true
      },
      "cell_type": "code",
      "source": "#step 3: add the collection function calls, lines below, to your run function.\ninputs_dc.collect(data)\nprediction_dc.collect(result)",
      "execution_count": null,
      "outputs": []
    },
    {
      "metadata": {
        "trusted": true
      },
      "cell_type": "code",
      "source": "#step 4: update the myenv.yml file with the required modules needed to train the model.\nfrom azureml.core.conda_dependencies import CondaDependencies \nmyenv = CondaDependencies.create(conda_packages=['numpy','scikit-learn'])\nmyenv.add_pip_package(\"azureml-monitoring\")\nwith open(\"myenv.yml\",\"w\") as f:\n    f.write(myenv.serialize_to_string())",
      "execution_count": null,
      "outputs": []
    },
    {
      "metadata": {},
      "cell_type": "markdown",
      "source": "##### WHERE CAN I VIEW THE COLLECTED DATA?\n\nThe output of the monitoring service gets saved in the Azure BLOB storage account associated with your Azure Machine Learning service workspace. The path of the file follows the following pattern.\n\n/modeldata/<subscriptionid>/<resourcegroup>/<workspace>/<webservice>/<model>/<version>/<identifier>/<year>/<month>/<day>/data.csv\n\nAn example would be:\n\n/modeldata/1a2b3c4d-5e6f-7g8h-9i10-j11k12l13m14/myresourcegrp/myWorkspace/aks-w-collv9/best_model/10/inputs/2018/12/31/data.csv"
    },
    {
      "metadata": {
        "trusted": true
      },
      "cell_type": "code",
      "source": "",
      "execution_count": null,
      "outputs": []
    },
    {
      "metadata": {
        "trusted": true
      },
      "cell_type": "code",
      "source": "",
      "execution_count": null,
      "outputs": []
    },
    {
      "metadata": {
        "trusted": true
      },
      "cell_type": "code",
      "source": "",
      "execution_count": null,
      "outputs": []
    }
  ],
  "metadata": {
    "kernelspec": {
      "name": "python36",
      "display_name": "Python 3.6",
      "language": "python"
    },
    "language_info": {
      "mimetype": "text/x-python",
      "nbconvert_exporter": "python",
      "name": "python",
      "pygments_lexer": "ipython3",
      "version": "3.6.6",
      "file_extension": ".py",
      "codemirror_mode": {
        "version": 3,
        "name": "ipython"
      }
    }
  },
  "nbformat": 4,
  "nbformat_minor": 2
}