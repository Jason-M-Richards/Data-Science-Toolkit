{
 "cells": [
  {
   "cell_type": "markdown",
   "metadata": {},
   "source": [
    "## Gradient Descent from scrtach\n",
    "\n",
    "    # gradient descent algorithm\n",
    "    cur_x = 1.5 # The algorithm starts at x=1.5\n",
    "    alpha = 1*10**(-7) # step size multiplier\n",
    "    print(alpha)\n",
    "    precision = 0.0000000001\n",
    "    previous_step_size = 1 \n",
    "    max_iters = 10000 # maximum number of iterations\n",
    "    iters = 0 #iteration counter\n",
    "\n",
    "    #Create a loop to iterate through the algorithm until either the max_iteration or precision conditions is met\n",
    "    while (previous_step_size > precision) & (iters < max_iters):\n",
    "        print('Current value: {} RSS Produced: {}'.format(cur_x, rss(cur_x)))\n",
    "        prev_x = cur_x\n",
    "        #Calculate the gradient. This is often done by hand to reduce computational complexity.\n",
    "        #For here, generate points surrounding your current state, then calculate the rss of these points\n",
    "        #Finally, use the np.gradient() method on this survey region. This code is provided here to ease this portion of the algorithm implementation\n",
    "        x_survey_region = np.linspace(start = cur_x - previous_step_size , stop = cur_x + previous_step_size , num = 101)\n",
    "        rss_survey_region = [np.sqrt(rss(m)) for m in x_survey_region]\n",
    "        gradient = np.gradient(rss_survey_region)[50] \n",
    "        cur_x -= alpha * gradient #Move opposite the gradient\n",
    "        previous_step_size = abs(cur_x - prev_x)\n",
    "        iters+=1\n",
    "\n",
    "    print(\"The local minimum occurs at\", cur_x)\n",
    "    "
   ]
  },
  {
   "cell_type": "markdown",
   "metadata": {},
   "source": []
  },
  {
   "cell_type": "markdown",
   "metadata": {},
   "source": []
  },
  {
   "cell_type": "markdown",
   "metadata": {},
   "source": []
  },
  {
   "cell_type": "markdown",
   "metadata": {},
   "source": []
  },
  {
   "cell_type": "markdown",
   "metadata": {},
   "source": []
  }
 ],
 "metadata": {
  "kernelspec": {
   "display_name": "learn-env",
   "language": "python",
   "name": "learn-env"
  },
  "language_info": {
   "codemirror_mode": {
    "name": "ipython",
    "version": 3
   },
   "file_extension": ".py",
   "mimetype": "text/x-python",
   "name": "python",
   "nbconvert_exporter": "python",
   "pygments_lexer": "ipython3",
   "version": "3.6.6"
  }
 },
 "nbformat": 4,
 "nbformat_minor": 2
}
