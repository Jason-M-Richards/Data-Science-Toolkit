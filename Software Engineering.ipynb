{
 "cells": [
  {
   "cell_type": "markdown",
   "metadata": {},
   "source": [
    "## Package Requirements \n",
    "\n",
    "1. working_directory\n",
    "    - setup.py\n",
    "    - my_script.py\n",
    "    - requirements.txt\n",
    "    - package_name\n",
    "        - __init__.py\n",
    "        - utils.py\n",
    "    - tests\n",
    "        "
   ]
  },
  {
   "cell_type": "markdown",
   "metadata": {},
   "source": [
    "## working_directory\n",
    "\n",
    "Name of the main working directory of the packages that will be included\n",
    "\n",
    "\n",
    "### setup.py\n",
    "tells pip how to install the package\n",
    "\n",
    "    # Import needed function from setuptools\n",
    "    from setuptools import setup\n",
    "\n",
    "    # Create proper setup to be used by pip\n",
    "    setup(name='package_name',\n",
    "          version='0.0.1',\n",
    "          description='Perform and visualize a text anaylsis.',\n",
    "          author='Jason Richards',\n",
    "          packages=['package_name'])\n",
    "          install_requires=['matplotlib>=3.0.0']) #any python packages that need installed\n",
    "          \n",
    "### my_script.py\n",
    "\n",
    "\n",
    "\n",
    "### requirements.txt\n",
    "contains any information on the package and version requirements to run your package\n",
    "in order to recreate the package environment, user can use _pip install -r requirements.txt_\n",
    "- example - \n",
    "    #needed packages/versions\n",
    "    matplotlib  # if version is unimportant, can just reference needed package\n",
    "    numpy==1.15.4  # == means that it needs that particular version\n",
    "    pycodestyle>=2.4.0 # >= means needs at least the version listed\n",
    "    pandas<=0.22.0  # <= means needs at most the version listed\n",
    "    \n",
    " may need to also provide where to install requirements\n",
    " - # please install requirements from\n",
    "     --index-url https://pypi.python.org/simple\n",
    "     \n",
    " ### package_name (module)\n",
    " One of the packages to be put into the directory. This should be labeled as shown above (all lowercase with an underscore representing whitespace)\n",
    " \n",
    " #### __init__.py\n",
    " a blank file that initializes the package, needs to be created for each package\n",
    " - if working from the init file, packages can be more easily imported using: _from .utils import function_name_\n",
    " - function can then be run using the following format: _package_name.function_name(arguments)_ \n",
    " - can also load classes from this file: _from .my_class import MyClass_\n",
    " \n",
    " #### utils.py (submodule)\n",
    " this is where functions are written for each package\n",
    " - _import package_name.utils_ will load the package into a terminal/notebook to run the function contained within \n",
    " - function can then be run using the following format: _package_name.utils.function_name(arguments)_\n",
    " \n",
    " ### tests\n",
    "- when naming test files, start with the word text...pytest only recognizes files starting with the word text\n",
    "\n",
    "#Testing example\n",
    "def test_social_media_hashtags():  _# test name\n",
    "    expected_hashtag_counts = Counter({'#python': 1, '#rstats': 1})  _# the testing attributes\n",
    "    assert sm_post.hashtag_counts == expected_hashtag_counts  _# assert calls the test "
   ]
  },
  {
   "cell_type": "markdown",
   "metadata": {},
   "source": [
    "### Docstrings\n",
    "\n",
    "code description that is printed when the help command is used.\n",
    "\n",
    "#Complete the function's docstring\n",
    "\n",
    "def tokenize(text, regex=r'[a-zA-z]+'):\n",
    "\n",
    "\"\"\"Split text into tokens using a regular expression _# brief statement describing what the function does_\n",
    "\n",
    ":param text: text to be tokenized _# text argument explained\n",
    "\n",
    ":param regex: regular expression used to match tokens using re.findall _# regex argument explained\n",
    "\n",
    ":return: a list of resulting tokens _# what the function returns\n",
    "\n",
    ".>>> tokenize('the rain in spain') _# a written function example\n",
    "\n",
    ".['the', 'rain', 'in', 'spain'] _# the output of the function\n",
    "\n",
    "  \"\"\"\n",
    "  "
   ]
  },
  {
   "cell_type": "markdown",
   "metadata": {},
   "source": [
    "### Doctest\n",
    "\n",
    "running doctest on a functions documentation wil call out any errors in the docstring\n",
    "\n",
    "import doctest\n",
    "#testmod function will check the docstring for errors\n",
    "doctest.testmod()"
   ]
  },
  {
   "cell_type": "markdown",
   "metadata": {},
   "source": [
    "### Software Engineering Resources \n",
    "\n",
    "1. Sphinx - produces beautiful docstring\n",
    "2. Travis CI - runs automatic tests on code (in Github)\n",
    "3. Codecov - monitors tests to help improve efficiency\n",
    "4. Code Climate - monitor code for optimal readability"
   ]
  }
 ],
 "metadata": {
  "kernelspec": {
   "display_name": "learn-env",
   "language": "python",
   "name": "learn-env"
  },
  "language_info": {
   "codemirror_mode": {
    "name": "ipython",
    "version": 3
   },
   "file_extension": ".py",
   "mimetype": "text/x-python",
   "name": "python",
   "nbconvert_exporter": "python",
   "pygments_lexer": "ipython3",
   "version": "3.6.9"
  },
  "toc": {
   "base_numbering": 1,
   "nav_menu": {},
   "number_sections": true,
   "sideBar": true,
   "skip_h1_title": false,
   "title_cell": "Table of Contents",
   "title_sidebar": "Contents",
   "toc_cell": false,
   "toc_position": {},
   "toc_section_display": true,
   "toc_window_display": true
  }
 },
 "nbformat": 4,
 "nbformat_minor": 2
}
