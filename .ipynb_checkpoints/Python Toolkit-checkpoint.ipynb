{
 "cells": [
  {
   "cell_type": "markdown",
   "metadata": {},
   "source": [
    "### Pulling up Docstrings¶\n",
    "Even better, you can even see how a method works by pulling up its docstring!\n",
    "You can do this by writing ? after the method and running the cell.\n",
    "\n",
    "- pd.read_csv?\n",
    "- pd.read_csv() #Move your cursor inside the parentheses and press shift+tab"
   ]
  },
  {
   "cell_type": "markdown",
   "metadata": {},
   "source": [
    "#### Main data types\n",
    "- boolean = True / False\n",
    "- integer = 10\n",
    "- float = 10.01\n",
    "- string = “123abc”\n",
    "- list = [ value1, value2, … ]\n",
    "- dictionary = { key1:value1, key2:value2, …} "
   ]
  },
  {
   "cell_type": "markdown",
   "metadata": {},
   "source": [
    "#### Numeric operators\n",
    "- + addition\n",
    "- - subtraction\n",
    "- * multiplication\n",
    "- / division\n",
    "- ** exponent\n",
    "- % modulus\n",
    "- // floor division\n"
   ]
  },
  {
   "cell_type": "markdown",
   "metadata": {},
   "source": [
    "#### Comparison Operators\n",
    "- == equal\n",
    "- != different\n",
    "- > higher\n",
    "- < lower\n",
    "- >= higher or equal\n",
    "- <= lower or equal"
   ]
  },
  {
   "cell_type": "markdown",
   "metadata": {},
   "source": [
    "#### Boolean Operators\n",
    "- and logical AND\n",
    "- or logical OR\n",
    "- not logical NOT"
   ]
  },
  {
   "cell_type": "markdown",
   "metadata": {},
   "source": [
    "#### Special Characters\n",
    "- _#  - comment_\n",
    "- _\\n  - new line_"
   ]
  },
  {
   "cell_type": "markdown",
   "metadata": {},
   "source": [
    "#### String Oprerators\n",
    "- string[i] retrieves character at position i\n",
    "- string[-1] retrieves last character\n",
    "- string[i:j] retrieves characters in range i to j\n",
    "- string[i:j:k] retrieves chararcters in range i to j skipping k # of characters\n"
   ]
  },
  {
   "cell_type": "markdown",
   "metadata": {},
   "source": [
    "#### List Operations\n",
    "- list = [] defines an empty list\n",
    "- list[i] = x stores x with index i\n",
    "- list[i] retrieves the item with index I\n",
    "- list[-1] retrieves last item\n",
    "- list[i:j] retrieves items in the range i to j\n",
    "- del list[i] removes the item with index i"
   ]
  },
  {
   "cell_type": "markdown",
   "metadata": {},
   "source": [
    "#### Dictionary Operations\n",
    "- dict = {} defines an empty dictionary\n",
    "- dict[k] = x stores x associated to key k\n",
    "- dict[k] retrieves the item with key k\n",
    "- del dict[k] removes the item with key k"
   ]
  },
  {
   "cell_type": "markdown",
   "metadata": {},
   "source": [
    "#### String Methods\n",
    "- string.upper() converts to uppercase\n",
    "- string.lower() converts to lowercase\n",
    "- string.count(x, start, end) counts how many times x appears (optional start and end points)\n",
    "- string.find(x,start,end) finds character index based on position of the x first occurrence (optional start and end points) - if no substring found, returns -1\n",
    "- string.index() - same as find(), only returns 'substring not found' instead of -1\n",
    "- string.replace(x,y,count) replaces x for y (optional count - # of occurences to replace)\n",
    "- string.strip(x) removes end/beginning characters from a string (default is whitespace delimiter) - can be lstrip(remove left) or rstrip (remove right)\n",
    "- character.join(L) returns a string from L (list) values joined by string\n",
    "- character.format(x) returns a string that includes formatted x\n",
    "- string.split(x) splits strings by specified delimiter x (whitespace is default)\n",
    "- string.splitline() splits strings at line boundary or (\\n)"
   ]
  },
  {
   "cell_type": "markdown",
   "metadata": {},
   "source": [
    "#### String Interpolation (position formatting)\n",
    "\n",
    "**'text{placeholder1} text{placeholder_n}'.format(placeholder1_value, placeholder_n_value)**\n",
    "\n",
    "- can use variables:\n",
    "\n",
    "    my_text = \"Hello, {} World\"\n",
    "    \n",
    "    placeholder = \"Jason's\"\n",
    "    \n",
    "    print(my_text.format(placeholder)\n",
    "    \n",
    "- can use index numbers in a list to reorder values ex: {0} = 1st list item, {-1} = last list item\n",
    "- can use named placeholders ex: title = 'Title' - my_text = 'The Movie {title}.format(title=title)\n",
    "- format specifier - {0:f}% = index 0 is a float\n",
    "- can also round decimal places in float - {0:.2f}%\n",
    "- can also use datetime - \"Now it is: {:%Y-%m-%d %H:%M}\".format(datetime.now())\n",
    "- using dictionary terms:\n",
    "\n",
    "    #Create a dictionary\n",
    "    \n",
    "    plan = {\"field\": courses[0],\"tool\": courses[1]}\n",
    "    \n",
    "    my_message = \"If you are interested in {data[field]}, you can take the course related to {data[tool]}\"\n",
    "    \n",
    "    print(my_message.format(data=plan))\n",
    "    \n",
    "##### literal formatting (also called 'f' string:)\n",
    "\n",
    "    name = 'Jason'\n",
    "    print(f'Hello, my name is {name}')\n",
    "    \n",
    "- conversions: ex: {name!r}\n",
    "\n",
    "    !s - string type\n",
    "    \n",
    "    !r - printable string type\n",
    "    \n",
    "    !a - !r type that is non ASCII\n",
    "    \n",
    "- can call inline operations {num1 * num2} in literal formatting\n",
    "- can also call functions {my_function(x)} in literal formatting\n",
    "\n",
    "##### template formatting\n",
    "\n",
    "    from string import Template\n",
    "    \n",
    "    our_tool = tools[0]\n",
    "    our_fee = tools[1]\n",
    "    our_pay = tools[2]\n",
    "\n",
    "    course = Template(\"We are offering a 3-month beginner course on $tool just for $$ $fee ${pay}ly\")\n",
    "    \n",
    "    print(course.substitute(tool=our_tool, fee=our_fee, pay=our_pay))"
   ]
  },
  {
   "cell_type": "markdown",
   "metadata": {},
   "source": [
    "#### List methods\n",
    "- list.append(x) adds x to the end of the list\n",
    "- list.extend(L) appends L to the end of the list\n",
    "- list.insert(i,x) inserts x at i position\n",
    "- list.remove(x) removes the first list item whose value is x\n",
    "- list.pop(i) removes the item at position i and returns its value\n",
    "- list.clear() removes all items from the list\n",
    "- list.index(x) returns a list of values delimited by x\n",
    "- list.count(x) returns a string with list values joined by S\n",
    "- list.sort() sorts list items\n",
    "- list.reverse() reverses list elements\n",
    "- list.copy() returns a copy of the list"
   ]
  },
  {
   "cell_type": "markdown",
   "metadata": {},
   "source": [
    "#### Dictionary Methods\n",
    "- dict.keys() returns a list of keys\n",
    "- dict.values() returns a list of values\n",
    "- dict.items() returns a list of pairs (key,value)\n",
    "- dict.get(k) returns the value associtated to the key k\n",
    "- dict.pop() removes the item associated to the key and returns its value\n",
    "- dict.update(D) adds keys-values (D) to dictionary\n",
    "- dict.clear() removes all keys-values from the dictionary\n",
    "- dict.copy() returns a copy of the dictionary\n"
   ]
  },
  {
   "cell_type": "markdown",
   "metadata": {},
   "source": [
    "#### Built-in functions\n",
    "\n",
    "- print(x, sep='y') prints x objects separated by y\n",
    "- input(s) prints s and waits for an inputthat will be returned\n",
    "- len(x) returns the length of x (s, L or D)\n",
    "- min(L) returns the minimum value in L\n",
    "- max(L) returns the maximum value in L\n",
    "- sum(L) returns the sum of the values in L\n",
    "- range(n1,n2,n) returns a sequence of numbers from n1 to n2 in steps of n\n",
    "- abs(n) returns the absolute value of n\n",
    "- round(n1,n) returns the n1 number rounded to n digits\n",
    "- type(x) returns the type of x (string, float, list, dict …)\n",
    "- str(x) converts x to string\n",
    "- list(x) converts x to a list\n",
    "- int(x) converts x to a integer number\n",
    "- float(x) converts x to a float number\n",
    "- help(s) prints help about x\n",
    "- map(function, L) Applies function to values in L"
   ]
  },
  {
   "cell_type": "markdown",
   "metadata": {},
   "source": [
    "#### Conditional Statements\n",
    "- if (condition) :\n",
    " \n",
    "- else if (condition) :\n",
    "\n",
    "…\n",
    "\n",
    "- else:\n",
    "\n",
    "- if (value) in (list):"
   ]
  },
  {
   "cell_type": "markdown",
   "metadata": {},
   "source": [
    "#### Data Validation\n",
    "- try:\n",
    "\n",
    "- except (error):\n",
    "\n",
    "- else:\n"
   ]
  },
  {
   "cell_type": "markdown",
   "metadata": {},
   "source": [
    "#### Working with Files and Folders\n",
    "- import os\n",
    "- os.getcwd()\n",
    "- os.makedirs(path)\n",
    "- os.chdir(path)\n",
    "- os.listdir(path)\n"
   ]
  },
  {
   "cell_type": "markdown",
   "metadata": {},
   "source": [
    "#### Loops\n",
    "- while (condition):\n",
    "\n",
    "- for (variable) in (list):\n",
    "\n",
    "- for (variable) in range(start,stop,step):\n",
    "\n",
    "- for key, value in dict.items():\n",
    "\n",
    "- for i, value in enumerate(l): \n",
    "    print(\"The value of item {} is {}\".\n",
    "    format(i,value))\n",
    "- Iterate over the list l, printing the index location of each item and its value \n",
    "\n",
    "- for one, two in zip(l_one,l_two): print(\"one: {}, two: {}\".format(one,two))\n",
    "- Iterate over two lists, l_one and l_two and print each value\n",
    "\n",
    "- while x < 10:\n",
    "- x += 1\n",
    "- Run the code in the body of the loop until the value of x is no longer less than 10"
   ]
  },
  {
   "cell_type": "markdown",
   "metadata": {},
   "source": [
    "#### Loop Control Statements\n",
    "- break       finishes loop execution\n",
    "- continue    jumps to next iteration\n",
    "- pass        does nothing\n"
   ]
  },
  {
   "cell_type": "markdown",
   "metadata": {},
   "source": [
    "#### Running External Programs\n",
    "- import os\n",
    "- os.system(command)"
   ]
  },
  {
   "cell_type": "markdown",
   "metadata": {},
   "source": [
    "#### Functions\n",
    "- def function(params):\n",
    "\n",
    "- return (data)"
   ]
  },
  {
   "cell_type": "markdown",
   "metadata": {},
   "source": [
    "#### Modules\n",
    "- import module or module.function()\n",
    "\n",
    "- from module import * function()\n"
   ]
  },
  {
   "cell_type": "markdown",
   "metadata": {},
   "source": [
    "#### Reading and Writing Files\n",
    "- f = open(path,‘r')\n",
    "- f.read(size)\n",
    "- f.readline(size)\n",
    "- f.close()\n",
    "\n",
    "- f = open(path,’r’)\n",
    "- for line in f:\n",
    "\n",
    "- f.close() \n",
    "\n",
    "- f = open(path,'w')\n",
    "- f.write('str')\n",
    "- f.close()"
   ]
  },
  {
   "cell_type": "markdown",
   "metadata": {},
   "source": [
    "#### SETS\n",
    "- my_set = set(l) - Return a set object containing the unique values from l\n",
    "- len(my_set) - Returns the number of objects in my_set (or, the number of unique values from l)\n",
    "- a in my_set - Returns True if the value a exists in my_set"
   ]
  },
  {
   "cell_type": "markdown",
   "metadata": {},
   "source": [
    "#### REGULAR EXPRESSIONS\n",
    "import re - Import the Regular Expressions module\n",
    "\n",
    "re.search(\"abc\",s) - Returns a match object if the regex \"abc\" is found in s, otherwise None\n",
    "\n",
    "re.sub(\"abc\",\"xyz\",s) - Returns a string where all instances matching regex \"abc\" are replaced by \"xyz\""
   ]
  },
  {
   "cell_type": "markdown",
   "metadata": {},
   "source": [
    "#### Datetime\n",
    "- import datetime as dt - Import the datetime module\n",
    "- now = dt.datetime.now() - Assign datetime object representing the current time to now\n",
    "- wks4 = dt.datetime.timedelta(weeks=4) - Assign a timedelta object representing a timespan of 4 weeks to wks4\n",
    "\n",
    "- dt.datetime(year=2020, month=12, day=31) - Assign a datetime object representing December 25, 2020 to newyear_2020\n",
    "\n",
    "- newyear_2020.strftime(\"%A, %b %d, %Y\") - Returns \"Thursday, Dec 31, 2020\"\n",
    "- dt.datetime.strptime('Dec 31, 2020',\"%b, %d, %Y\") - Return a datetime object representing December 31, 2020\n",
    "\n",
    "##### dateutil\n",
    "has a library of tz that holds timezone database information\n",
    " - use tz.gettz('Continent/City') to load that paticular timezone\n",
    " - timezone.utc - sets the timezone to UTC\n",
    "##### timedelta\n",
    "library that allows a change in time to be entered \n",
    " - timedelta(hours=-3)\n",
    " - .total_seconds - total time in seconds that has elapsed\n",
    " ##### daylight savings\n",
    " use the tz library, it accounts for DST, otherwise, use the UTC timezone\n",
    " - tz.datetime_ambiguous(data) - boolean value if one time falls into two timezones\n",
    " - data.astimezone() - changes timezone to another (value should be set to replace)\n"
   ]
  },
  {
   "cell_type": "markdown",
   "metadata": {},
   "source": [
    "### RANDOM\n",
    "- import random - Import the random module\n",
    "- random.random() - Returns a random float between 0.0 and 1.0\n",
    "- random.randint(0,10) - Returns a random integer between 0 and 10\n",
    "- random.choice(l) - Returns a random item from the list l"
   ]
  },
  {
   "cell_type": "markdown",
   "metadata": {},
   "source": [
    "#### COUNTER\n",
    "from collections import Counter - Import the Counter class\n",
    "\n",
    "c = Counter(l) - Assign a Counter (dict-like) object with the counts of each unique item from l, to c\n",
    "\n",
    "c.most_common(3) - Return the 3 most common items from l"
   ]
  },
  {
   "cell_type": "markdown",
   "metadata": {},
   "source": [
    "#### Timing\n",
    "- %time: Time the execution of a single statement\n",
    "- %timeit: Time repeated execution of a single statement for more accuracy\n",
    "- %prun: Run code with the profiler\n",
    "- %lprun: Run code with the line-by-line profiler\n",
    "- %memit: Measure the memory use of a single statement\n",
    "- %mprun: Run code with the line-by-line memory profiler"
   ]
  },
  {
   "cell_type": "markdown",
   "metadata": {},
   "source": [
    "#### Command Mode (Jupyter)\n",
    "- shift + enter run cell, select below\n",
    "- ctrl + enter run cell\n",
    "- option + enter run cell, insert below\n",
    "- A insert cell above\n",
    "- B insert cell below\n",
    "- C copy cell\n",
    "- V paste cell\n",
    "- D , D delete selected cell\n",
    "- shift + M merge selected cells, or current cell with cell below if only one cell selected\n",
    "- I , I interrupt kernel\n",
    "- 0 , 0 restart kernel (with dialog)\n",
    "- Y change cell to code mode\n",
    "- M change cell to markdown mode (good for documentation)"
   ]
  },
  {
   "cell_type": "markdown",
   "metadata": {},
   "source": [
    "#### Cell Edit Mode\n",
    "- ctrl + click for multi-cursor editing\n",
    "- ctrl + / toggle comment lines\n",
    "- tab code completion or indent\n",
    "- shift + tab tooltip\n",
    "- ctrl + shift + - split cell"
   ]
  }
 ],
 "metadata": {
  "kernelspec": {
   "display_name": "Python 3",
   "language": "python",
   "name": "python3"
  },
  "language_info": {
   "codemirror_mode": {
    "name": "ipython",
    "version": 3
   },
   "file_extension": ".py",
   "mimetype": "text/x-python",
   "name": "python",
   "nbconvert_exporter": "python",
   "pygments_lexer": "ipython3",
   "version": "3.6.9"
  },
  "toc": {
   "base_numbering": 1,
   "nav_menu": {},
   "number_sections": true,
   "sideBar": true,
   "skip_h1_title": false,
   "title_cell": "Table of Contents",
   "title_sidebar": "Contents",
   "toc_cell": false,
   "toc_position": {},
   "toc_section_display": true,
   "toc_window_display": true
  }
 },
 "nbformat": 4,
 "nbformat_minor": 2
}
